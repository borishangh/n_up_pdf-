{
 "cells": [
  {
   "cell_type": "code",
   "execution_count": 183,
   "metadata": {},
   "outputs": [],
   "source": [
    "import PyPDF2\n",
    "from PyPDF2 import PdfReader, PdfWriter, PageObject, Transformation, PaperSize\n",
    "from PyPDF2.generic import RectangleObject "
   ]
  },
  {
   "cell_type": "code",
   "execution_count": 225,
   "metadata": {},
   "outputs": [],
   "source": [
    "def double_canvas(page):\n",
    "    mb = page.mediabox\n",
    "    page.mediabox = RectangleObject((mb.left, mb.bottom, mb.right * 2, mb.top))\n",
    "    page.cropbox = RectangleObject((mb.left, mb.bottom, mb.right * 2, mb.top))\n",
    "    page.trimbox = RectangleObject((mb.left, mb.bottom, mb.right * 2, mb.top))\n",
    "    page.bleedbox = RectangleObject((mb.left, mb.bottom, mb.right * 2, mb.top))\n",
    "    page.artbox = RectangleObject((mb.left, mb.bottom, mb.right * 2, mb.top))"
   ]
  },
  {
   "cell_type": "code",
   "execution_count": 237,
   "metadata": {},
   "outputs": [],
   "source": [
    "def add_page(reader, writer, left, right):\n",
    "    page_left = reader.pages[left]\n",
    "    page_right = reader.pages[right]\n",
    "\n",
    "    base = PageObject.create_blank_page(None, 1000, 680)\n",
    "\n",
    "    double_canvas(page_left)\n",
    "    to_left = Transformation().translate(tx=-25, ty=-108)\n",
    "    page_left.add_transformation(to_left)\n",
    "    base.merge_page(page_left)\n",
    "\n",
    "    double_canvas(page_right)\n",
    "    to_right = Transformation().translate(tx=490, ty=-108)\n",
    "    page_right.add_transformation(to_right)\n",
    "\n",
    "    base.merge_page(page_right)\n",
    "\n",
    "    writer.add_page(base)"
   ]
  },
  {
   "cell_type": "code",
   "execution_count": 241,
   "metadata": {},
   "outputs": [],
   "source": [
    "reader = PdfReader(\"input.pdf\")\n",
    "writer = PdfWriter()\n",
    "\n",
    "for i in range(15):\n",
    "    add_page(reader, writer, i * 16 + 15, i * 16 + 0)\n",
    "    add_page(reader, writer, i * 16 + 1, i * 16 + 14)\n",
    "    add_page(reader, writer, i * 16 + 13, i * 16 + 2)\n",
    "    add_page(reader, writer, i * 16 + 3, i * 16 + 12)\n",
    "    add_page(reader, writer, i * 16 + 11, i * 16 + 4)\n",
    "    add_page(reader, writer, i * 16 + 5, i * 16 + 10)\n",
    "    add_page(reader, writer, i * 16 + 9, i * 16 + 6)\n",
    "    add_page(reader, writer, i * 16 + 7, i * 16 + 8)\n",
    "\n",
    "\n",
    "with open(\"out.pdf\", \"wb\") as f:\n",
    "    writer.write(f)"
   ]
  },
  {
   "cell_type": "code",
   "execution_count": null,
   "metadata": {},
   "outputs": [],
   "source": []
  }
 ],
 "metadata": {
  "kernelspec": {
   "display_name": "Python 3",
   "language": "python",
   "name": "python3"
  },
  "language_info": {
   "codemirror_mode": {
    "name": "ipython",
    "version": 3
   },
   "file_extension": ".py",
   "mimetype": "text/x-python",
   "name": "python",
   "nbconvert_exporter": "python",
   "pygments_lexer": "ipython3",
   "version": "3.12.0"
  }
 },
 "nbformat": 4,
 "nbformat_minor": 2
}
